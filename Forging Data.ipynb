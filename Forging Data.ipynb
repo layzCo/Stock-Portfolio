{
 "cells": [
  {
   "cell_type": "code",
   "execution_count": 1,
   "id": "a4e28f64",
   "metadata": {},
   "outputs": [
    {
     "data": {
      "text/html": [
       "        <script type=\"text/javascript\">\n",
       "        window.PlotlyConfig = {MathJaxConfig: 'local'};\n",
       "        if (window.MathJax) {MathJax.Hub.Config({SVG: {font: \"STIX-Web\"}});}\n",
       "        if (typeof require !== 'undefined') {\n",
       "        require.undef(\"plotly\");\n",
       "        requirejs.config({\n",
       "            paths: {\n",
       "                'plotly': ['https://cdn.plot.ly/plotly-2.8.3.min']\n",
       "            }\n",
       "        });\n",
       "        require(['plotly'], function(Plotly) {\n",
       "            window._Plotly = Plotly;\n",
       "        });\n",
       "        }\n",
       "        </script>\n",
       "        "
      ]
     },
     "metadata": {},
     "output_type": "display_data"
    },
    {
     "data": {
      "text/html": [
       "        <script type=\"text/javascript\">\n",
       "        window.PlotlyConfig = {MathJaxConfig: 'local'};\n",
       "        if (window.MathJax) {MathJax.Hub.Config({SVG: {font: \"STIX-Web\"}});}\n",
       "        if (typeof require !== 'undefined') {\n",
       "        require.undef(\"plotly\");\n",
       "        requirejs.config({\n",
       "            paths: {\n",
       "                'plotly': ['https://cdn.plot.ly/plotly-2.8.3.min']\n",
       "            }\n",
       "        });\n",
       "        require(['plotly'], function(Plotly) {\n",
       "            window._Plotly = Plotly;\n",
       "        });\n",
       "        }\n",
       "        </script>\n",
       "        "
      ]
     },
     "metadata": {},
     "output_type": "display_data"
    }
   ],
   "source": [
    "import numpy as np\n",
    "import pandas as pd\n",
    "import matplotlib.pyplot as plt\n",
    "import matplotlib.dates as mdates\n",
    "%matplotlib inline\n",
    "\n",
    "#for working on time and dates\n",
    "import datetime as dt\n",
    "import time\n",
    "\n",
    "#yahoo finance lib\n",
    "import yfinance as yf\n",
    "\n",
    "#for handling files\n",
    "import os \n",
    "from os import listdir\n",
    "from os.path import isfile, join\n",
    "\n",
    "#import plotly lib\n",
    "import cufflinks as cf\n",
    "import plotly as ply\n",
    "import plotly.express as px\n",
    "import plotly.graph_objects as go\n",
    "\n",
    "#Make Plotly work in jupyter notebook\n",
    "ply.offline.init_notebook_mode(connected=True)\n",
    "    #ply.offline(parameter) connected: Literal[True] ook_mode, plot, iplot\n",
    "    #init_notebook_mode(connected=True)\n",
    "\n",
    "#use plotly locally\n",
    "cf.go_offline()\n",
    "\n",
    "from plotly.subplots import make_subplots\n",
    "\n",
    "import warnings\n",
    "warnings.simplefilter('ignore')"
   ]
  },
  {
   "cell_type": "markdown",
   "id": "b88786a4",
   "metadata": {},
   "source": [
    "## Constants"
   ]
  },
  {
   "cell_type": "code",
   "execution_count": 2,
   "id": "4627c292",
   "metadata": {},
   "outputs": [],
   "source": [
    "Path = \"C:/Users/davin/Documents/Data Science/My Projects/Untitled Folder/My Portfolio/\"\n",
    "\n",
    "#start end date defaults\n",
    "s_date = '2017-02-01'\n",
    "e_date = '2022-12-06'\n",
    "s_date_dt = pd.to_datetime(s_date)\n",
    "e_date_dt = pd.to_datetime(e_date)\n"
   ]
  },
  {
   "cell_type": "markdown",
   "id": "d26947d9",
   "metadata": {},
   "source": [
    "## Column Data"
   ]
  },
  {
   "cell_type": "code",
   "execution_count": 3,
   "id": "17aec78e",
   "metadata": {},
   "outputs": [],
   "source": [
    "def get_column_from_csv(file, col_name):\n",
    "    \n",
    "    try:\n",
    "        df = pd.read_csv(file,delimiter=';')\n",
    "    except FileNotFoundError:\n",
    "        print(\"File Doesn't Exist\")\n",
    "    else:\n",
    "        return df[col_name]"
   ]
  },
  {
   "cell_type": "code",
   "execution_count": 4,
   "id": "0e3798c7",
   "metadata": {},
   "outputs": [
    {
     "data": {
      "text/plain": [
       "0     PTBA.JK\n",
       "1     UNVR.JK\n",
       "2     BBCA.JK\n",
       "3     BMRI.JK\n",
       "4     BBRI.JK\n",
       "5     GGRM.JK\n",
       "6     ITMG.JK\n",
       "7     UNTR.JK\n",
       "8     ADMF.JK\n",
       "9     SMGR.JK\n",
       "10    INTP.JK\n",
       "Name: Ticker, dtype: object"
      ]
     },
     "execution_count": 4,
     "metadata": {},
     "output_type": "execute_result"
    }
   ],
   "source": [
    "tickers = get_column_from_csv('tickers.csv','Ticker')\n",
    "tickers"
   ]
  },
  {
   "cell_type": "markdown",
   "id": "4a4fdf2c",
   "metadata": {},
   "source": [
    "## Download Stocks Data"
   ]
  },
  {
   "cell_type": "code",
   "execution_count": 1,
   "id": "e7637148",
   "metadata": {},
   "outputs": [],
   "source": [
    "stocks_not_downloaded =[]\n",
    "missing_stocks = []"
   ]
  },
  {
   "cell_type": "code",
   "execution_count": 5,
   "id": "ade25555",
   "metadata": {},
   "outputs": [],
   "source": [
    "def save_stock_to_csv(folder,tickers):\n",
    "    stock = yf.Ticker(tickers)\n",
    "    try:\n",
    "        print('Get Data for :', tickers)\n",
    "        df = stock.history(period = '5y')\n",
    "        time.sleep(2)\n",
    "        if df.empty:\n",
    "            stocks_not_downloaded.append(tickers)\n",
    "        the_file = folder + tickers.replace('.','_')+'.csv'\n",
    "        print(the_file,'Saved')\n",
    "        df.to_csv(the_file)\n",
    "    except Exception as ex:\n",
    "        stocks_not_downloaded.append(tickers)\n",
    "        print('Couldnt get data for:',tickers)"
   ]
  },
  {
   "cell_type": "code",
   "execution_count": 6,
   "id": "a1e57826",
   "metadata": {},
   "outputs": [
    {
     "name": "stdout",
     "output_type": "stream",
     "text": [
      "Get Data for : PTBA.JK\n",
      "C:/Users/davin/Documents/Data Science/My Projects/Untitled Folder/My Portfolio/PTBA_JK.csv Saved\n",
      "Get Data for : UNVR.JK\n",
      "C:/Users/davin/Documents/Data Science/My Projects/Untitled Folder/My Portfolio/UNVR_JK.csv Saved\n",
      "Get Data for : BBCA.JK\n",
      "C:/Users/davin/Documents/Data Science/My Projects/Untitled Folder/My Portfolio/BBCA_JK.csv Saved\n",
      "Get Data for : BMRI.JK\n",
      "C:/Users/davin/Documents/Data Science/My Projects/Untitled Folder/My Portfolio/BMRI_JK.csv Saved\n",
      "Get Data for : BBRI.JK\n",
      "C:/Users/davin/Documents/Data Science/My Projects/Untitled Folder/My Portfolio/BBRI_JK.csv Saved\n",
      "Get Data for : GGRM.JK\n",
      "C:/Users/davin/Documents/Data Science/My Projects/Untitled Folder/My Portfolio/GGRM_JK.csv Saved\n",
      "Get Data for : ITMG.JK\n",
      "C:/Users/davin/Documents/Data Science/My Projects/Untitled Folder/My Portfolio/ITMG_JK.csv Saved\n",
      "Get Data for : UNTR.JK\n",
      "C:/Users/davin/Documents/Data Science/My Projects/Untitled Folder/My Portfolio/UNTR_JK.csv Saved\n",
      "Get Data for : ADMF.JK\n",
      "C:/Users/davin/Documents/Data Science/My Projects/Untitled Folder/My Portfolio/ADMF_JK.csv Saved\n",
      "Get Data for : SMGR.JK\n",
      "C:/Users/davin/Documents/Data Science/My Projects/Untitled Folder/My Portfolio/SMGR_JK.csv Saved\n",
      "Finished\n"
     ]
    }
   ],
   "source": [
    "folder = \"C:/Users/davin/Documents/Data Science/My Projects/Untitled Folder/My Portfolio/\"\n",
    "for x in range(10):\n",
    "    save_stock_to_csv(folder,tickers[x])\n",
    "print('Finished')"
   ]
  },
  {
   "cell_type": "markdown",
   "id": "ca82c510",
   "metadata": {},
   "source": [
    "## Get all stocks in a list"
   ]
  },
  {
   "cell_type": "code",
   "execution_count": 8,
   "id": "80a400ba",
   "metadata": {},
   "outputs": [
    {
     "name": "stdout",
     "output_type": "stream",
     "text": [
      "['ADMF_JK', 'BBCA_JK', 'BBRI_JK', 'BMRI_JK', 'GGRM_JK', 'ITMG_JK', 'PTBA_JK', 'SMGR_JK', 'UNTR_JK', 'UNVR_JK']\n",
      "10\n"
     ]
    }
   ],
   "source": [
    "files = [x for x in listdir(Path) if isfile(join(Path,x))]\n",
    "tickers = [os.path.splitext(x)[0] for x in files]\n",
    "tickers.sort()\n",
    "print(tickers)\n",
    "print(len(tickers))"
   ]
  },
  {
   "cell_type": "markdown",
   "id": "208c4f38",
   "metadata": {},
   "source": [
    "## daily return"
   ]
  },
  {
   "cell_type": "code",
   "execution_count": 9,
   "id": "a9f4f670",
   "metadata": {},
   "outputs": [],
   "source": [
    "def daily_return_to_df(df):\n",
    "    df['daily_return'] = (df['Close']/df['Close'].shift(1))-1\n",
    "    #df.to_csv(Path + ticker + '.csv')\n",
    "    return df"
   ]
  },
  {
   "cell_type": "markdown",
   "id": "6fcbe03c",
   "metadata": {},
   "source": [
    "## cumulative return"
   ]
  },
  {
   "cell_type": "code",
   "execution_count": 10,
   "id": "4470aefd",
   "metadata": {},
   "outputs": [],
   "source": [
    "def cum_return_to_df(df):\n",
    "    df['cum_return'] = (1+df['daily_return']).cumprod()\n",
    "    #df.to_csv(Path + ticker + '.csv')\n",
    "    return df"
   ]
  },
  {
   "cell_type": "markdown",
   "id": "720df50e",
   "metadata": {},
   "source": [
    "## Bolinger bands"
   ]
  },
  {
   "cell_type": "markdown",
   "id": "a87f3776",
   "metadata": {},
   "source": [
    "Bollinger Bands plot 2 lines using a moving average and the standard deviation defines how far apart the lines are. They also are used to define if prices are to high or low. When bands tighten it is believed a sharp price move in some direction. Prices tend to bounce off of the bands which provides potential market actions.\n",
    "\n",
    "A strong trend should be noted if the price moves outside the band. If prices go over the resistance line it is in overbought territory and if it breaks through support it is a sign of an oversold position."
   ]
  },
  {
   "cell_type": "code",
   "execution_count": 11,
   "id": "9df2dfc5",
   "metadata": {},
   "outputs": [],
   "source": [
    "def bollinger_bands(df):\n",
    "    df['middle_band'] = df['Close'].rolling(window = 20).mean()\n",
    "    df['upper_band'] = df['middle_band']+ 1.96 * df['Close'].rolling(window = 20).std()\n",
    "    df['lower_band'] = df['middle_band']- 1.96 * df['Close'].rolling(window = 20).std()\n",
    "    #df.to_csv(Path + ticker + '.csv')\n",
    "    return df"
   ]
  },
  {
   "cell_type": "markdown",
   "id": "15acfc30",
   "metadata": {},
   "source": [
    "## Ichimoku"
   ]
  },
  {
   "cell_type": "markdown",
   "id": "55dc63fa",
   "metadata": {},
   "source": [
    "The Ichimoku (One Look) is considered an all in one indicator. It provides information on momentum, support and resistance. It is made up of 5 lines. If you are a short term trader you create 1 minute or 6 hour. Long term traders focus on day or weekly data.\n",
    "\n",
    "- Conversion Line (Tenkan-sen) : Represents support, resistance and reversals. Used to measure short term trends.\n",
    "- Baseline (Kijun-sen) : Represents support, resistance and confirms trend changes. Allows you to - -evaluate the strength of medium term trends. Called the baseline because it lags the price.\n",
    "- Leading Span A (Senkou A) : Used to identify future areas of support and resistance\n",
    "- Leading Span B (Senkou B) : Other line used to identify suture support and resistance\n",
    "- Lagging Span (Chikou) : Shows possible support and resistance. It is used to confirm signals obtained from other lines.\n",
    "- Cloud (Kumo) : Space between Span A and B. Represents the divergence in price evolution.\n",
    "\n",
    "\n",
    "Formulas\n",
    "\n",
    "- Lagging Span = Price shifted back 26 periods\n",
    "- Base Line = (Highest Value in period + Lowest value in period)/2 (26 Sessions)\n",
    "- Conversion Line = (Highest Value in period + Lowest value in period)/2 (9 Sessions)\n",
    "- Leading Span A = (Conversion Value + Base Value)/2 (26 Sessions)\n",
    "- Leading Span B = (Conversion Value + Base Value)/2 (52 Sessions)"
   ]
  },
  {
   "cell_type": "code",
   "execution_count": 12,
   "id": "e95360e6",
   "metadata": {},
   "outputs": [],
   "source": [
    "def Ichimoku(df):\n",
    "    # Conversion = (highest value in period + lowest value in period)/2 (9 sessions)\n",
    "    hi_val = df['High'].rolling(window=9).max()\n",
    "    low_val = df['Low'].rolling(window=9).min()\n",
    "    df['Conversion'] = (hi_val + low_val) / 2\n",
    "\n",
    "    # Baseline = (highest value in period + lowest value in period)/2 (26 sessions)\n",
    "    hi_val2 = df['High'].rolling(window=26).max()\n",
    "    low_val2 = df['Low'].rolling(window=26).min()\n",
    "    df['Baseline'] = (hi_val2 + low_val2) / 2\n",
    "\n",
    "    # Spans = ()\n",
    "    df['SpanA'] = ((df['Conversion'] + df['Baseline']) / 2).shift(26)\n",
    "    hi_val3 = df['High'].rolling(window=52).max()\n",
    "    low_val3 = df['Low'].rolling(window=52).min()\n",
    "    df['SpanB'] = ((hi_val3 + low_val3) / 2).shift(26)\n",
    "    df['Lagging'] = df['Close'].shift(-26)\n",
    "\n",
    "    return df"
   ]
  },
  {
   "cell_type": "markdown",
   "id": "915761af",
   "metadata": {},
   "source": [
    "## Get Dataframe from CSV"
   ]
  },
  {
   "cell_type": "code",
   "execution_count": 7,
   "id": "17bf6817",
   "metadata": {},
   "outputs": [],
   "source": [
    "def get_stock_df_from_csv(ticker):\n",
    "    try:\n",
    "        df = pd.read_csv(Path + ticker + '.csv', index_col=0)\n",
    "    except FileNotFoundError as ex:\n",
    "        Print('File Not Found')\n",
    "    else:\n",
    "        return df"
   ]
  },
  {
   "cell_type": "markdown",
   "id": "d5d5fd8e",
   "metadata": {},
   "source": [
    "## Add Daily, Cumulative Bollinger Bands & Ichimoku to Dataframes"
   ]
  },
  {
   "cell_type": "code",
   "execution_count": 15,
   "id": "ca83beda",
   "metadata": {},
   "outputs": [
    {
     "name": "stdout",
     "output_type": "stream",
     "text": [
      "Working on : ADMF_JK\n",
      "Working on : BBCA_JK\n",
      "Working on : BBRI_JK\n",
      "Working on : BMRI_JK\n",
      "Working on : GGRM_JK\n",
      "Working on : ITMG_JK\n",
      "Working on : PTBA_JK\n",
      "Working on : SMGR_JK\n",
      "Working on : UNTR_JK\n",
      "Working on : UNVR_JK\n"
     ]
    }
   ],
   "source": [
    "for x in tickers:\n",
    "    try:\n",
    "        print(\"Working on :\", x)\n",
    "        new_df = get_stock_df_from_csv(x)\n",
    "        new_df = daily_return_to_df(new_df)\n",
    "        new_df = cum_return_to_df(new_df)\n",
    "        new_df = bollinger_bands(new_df)\n",
    "        new_df = Ichimoku(new_df)\n",
    "        new_df.to_csv(Path + x + '.csv')\n",
    "    except Exception as ex:\n",
    "        print(ex)"
   ]
  },
  {
   "cell_type": "code",
   "execution_count": 14,
   "id": "7a1f8863",
   "metadata": {},
   "outputs": [],
   "source": [
    "# It is always better to test your results using one stock\n",
    "# try:\n",
    "#     print(\"Working on :\", \"A\")\n",
    "#     new_df = get_stock_df_from_csv(\"A\")\n",
    "#     new_df = add_daily_return_to_df(new_df)\n",
    "#     new_df = add_cum_return_to_df(new_df)\n",
    "#     new_df = add_bollinger_bands(new_df)\n",
    "#     new_df = add_Ichimoku(new_df)\n",
    "#     new_df.to_csv(PATH + 'A' + '.csv')\n",
    "# except Exception as ex:\n",
    "#     print(ex)"
   ]
  }
 ],
 "metadata": {
  "kernelspec": {
   "display_name": "Python 3",
   "language": "python",
   "name": "python3"
  },
  "language_info": {
   "codemirror_mode": {
    "name": "ipython",
    "version": 3
   },
   "file_extension": ".py",
   "mimetype": "text/x-python",
   "name": "python",
   "nbconvert_exporter": "python",
   "pygments_lexer": "ipython3",
   "version": "3.8.8"
  }
 },
 "nbformat": 4,
 "nbformat_minor": 5
}
