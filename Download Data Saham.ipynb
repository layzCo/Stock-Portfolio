{
 "cells": [
  {
   "cell_type": "code",
   "execution_count": 1,
   "id": "ccda53da",
   "metadata": {},
   "outputs": [
    {
     "data": {
      "text/html": [
       "        <script type=\"text/javascript\">\n",
       "        window.PlotlyConfig = {MathJaxConfig: 'local'};\n",
       "        if (window.MathJax && window.MathJax.Hub && window.MathJax.Hub.Config) {window.MathJax.Hub.Config({SVG: {font: \"STIX-Web\"}});}\n",
       "        if (typeof require !== 'undefined') {\n",
       "        require.undef(\"plotly\");\n",
       "        requirejs.config({\n",
       "            paths: {\n",
       "                'plotly': ['https://cdn.plot.ly/plotly-2.12.1.min']\n",
       "            }\n",
       "        });\n",
       "        require(['plotly'], function(Plotly) {\n",
       "            window._Plotly = Plotly;\n",
       "        });\n",
       "        }\n",
       "        </script>\n",
       "        "
      ]
     },
     "metadata": {},
     "output_type": "display_data"
    },
    {
     "data": {
      "text/html": [
       "        <script type=\"text/javascript\">\n",
       "        window.PlotlyConfig = {MathJaxConfig: 'local'};\n",
       "        if (window.MathJax && window.MathJax.Hub && window.MathJax.Hub.Config) {window.MathJax.Hub.Config({SVG: {font: \"STIX-Web\"}});}\n",
       "        if (typeof require !== 'undefined') {\n",
       "        require.undef(\"plotly\");\n",
       "        requirejs.config({\n",
       "            paths: {\n",
       "                'plotly': ['https://cdn.plot.ly/plotly-2.12.1.min']\n",
       "            }\n",
       "        });\n",
       "        require(['plotly'], function(Plotly) {\n",
       "            window._Plotly = Plotly;\n",
       "        });\n",
       "        }\n",
       "        </script>\n",
       "        "
      ]
     },
     "metadata": {},
     "output_type": "display_data"
    }
   ],
   "source": [
    "import numpy as np\n",
    "import pandas as pd\n",
    "import matplotlib.pyplot as plt\n",
    "import matplotlib.dates as mdates\n",
    "%matplotlib inline\n",
    "\n",
    "#for working on time and dates\n",
    "import datetime as dt\n",
    "import time\n",
    "\n",
    "#yahoo finance lib\n",
    "import yfinance as yf\n",
    "\n",
    "#for handling files\n",
    "import os \n",
    "from os import listdir\n",
    "from os.path import isfile, join\n",
    "\n",
    "#import plotly lib\n",
    "import cufflinks as cf\n",
    "import plotly as ply\n",
    "import plotly.express as px\n",
    "import plotly.graph_objects as go\n",
    "\n",
    "#Make Plotly work in jupyter notebook\n",
    "ply.offline.init_notebook_mode(connected=True)\n",
    "    #ply.offline(parameter) connected: Literal[True] ook_mode, plot, iplot\n",
    "    #init_notebook_mode(connected=True)\n",
    "\n",
    "#use plotly locally\n",
    "cf.go_offline()\n",
    "\n",
    "from plotly.subplots import make_subplots\n",
    "\n",
    "import warnings\n",
    "warnings.simplefilter('ignore')"
   ]
  },
  {
   "cell_type": "markdown",
   "id": "b88786a4",
   "metadata": {},
   "source": [
    "## Constants"
   ]
  },
  {
   "cell_type": "code",
   "execution_count": 2,
   "id": "9c3896ca",
   "metadata": {},
   "outputs": [],
   "source": [
    "Path_5y = \"C:/Users/davin/Documents/Data Science/My Projects/Untitled Folder/My Portfolio/5y/\"\n",
    "Path_1y = \"C:/Users/davin/Documents/Data Science/My Projects/Untitled Folder/My Portfolio/1y/\"\n",
    "Path_6mo = \"C:/Users/davin/Documents/Data Science/My Projects/Untitled Folder/My Portfolio/6mo/\"\n",
    "Path_3mo = \"C:/Users/davin/Documents/Data Science/My Projects/Untitled Folder/My Portfolio/3mo/\"\n",
    "\n",
    "#start end date defaults\n",
    "s_date = '2017-02-01'\n",
    "e_date = '2022-12-06'\n",
    "s_date_dt = pd.to_datetime(s_date)\n",
    "e_date_dt = pd.to_datetime(e_date)## Constants"
   ]
  },
  {
   "cell_type": "markdown",
   "id": "d26947d9",
   "metadata": {},
   "source": [
    "## Column Data"
   ]
  },
  {
   "cell_type": "code",
   "execution_count": 3,
   "id": "40bf8678",
   "metadata": {},
   "outputs": [],
   "source": [
    "def get_column_from_csv(file, col_name):\n",
    "    \n",
    "    try:\n",
    "        df = pd.read_csv(file,delimiter=';')\n",
    "    except FileNotFoundError:\n",
    "        print(\"File Doesn't Exist\")\n",
    "    else:\n",
    "        df.drop_duplicates(inplace=True)\n",
    "        for i in df[col_name]:\n",
    "            df[col_name] = df[col_name]+\".JK\"\n",
    "            break\n",
    "        df.reset_index(drop=True, inplace = True)    \n",
    "        return df[col_name]"
   ]
  },
  {
   "cell_type": "code",
   "execution_count": 4,
   "id": "cadd01ae",
   "metadata": {},
   "outputs": [
    {
     "data": {
      "text/plain": [
       "0     ADRO.JK\n",
       "1     ANTM.JK\n",
       "2     ASII.JK\n",
       "3     BBCA.JK\n",
       "4     BBNI.JK\n",
       "5     BBRI.JK\n",
       "6     BBTN.JK\n",
       "7     BMRI.JK\n",
       "8     BRPT.JK\n",
       "9     BUKA.JK\n",
       "10    CPIN.JK\n",
       "11    EMTK.JK\n",
       "12    EXCL.JK\n",
       "13    ICBP.JK\n",
       "14    INCO.JK\n",
       "15    INDF.JK\n",
       "16    INKP.JK\n",
       "17    KLBF.JK\n",
       "18    MDKA.JK\n",
       "19    MIKA.JK\n",
       "20    PGAS.JK\n",
       "21    PTBA.JK\n",
       "22    SMGR.JK\n",
       "23    TBIG.JK\n",
       "24    TINS.JK\n",
       "25    TLKM.JK\n",
       "26    TOWR.JK\n",
       "27    UNTR.JK\n",
       "28    UNVR.JK\n",
       "29    WSKT.JK\n",
       "30    ADMF.JK\n",
       "31    HEXA.JK\n",
       "32    HMSP.JK\n",
       "33    ITMG.JK\n",
       "34    MPMX.JK\n",
       "Name: Kode, dtype: object"
      ]
     },
     "execution_count": 4,
     "metadata": {},
     "output_type": "execute_result"
    }
   ],
   "source": [
    "tickers = get_column_from_csv('tickers.csv', 'Kode')\n",
    "tickers"
   ]
  },
  {
   "cell_type": "markdown",
   "id": "4a4fdf2c",
   "metadata": {},
   "source": [
    "## Download Stocks Data"
   ]
  },
  {
   "cell_type": "code",
   "execution_count": 5,
   "id": "d136c784",
   "metadata": {},
   "outputs": [],
   "source": [
    "stocks_not_downloaded =[]\n",
    "missing_stocks = []"
   ]
  },
  {
   "cell_type": "code",
   "execution_count": 6,
   "id": "b0be2357",
   "metadata": {},
   "outputs": [],
   "source": [
    "def save_stock_to_csv(folder,tickers,period):\n",
    "    stock = yf.Ticker(tickers)\n",
    "    try:\n",
    "        print('Get Data for :', tickers)\n",
    "        df = stock.history(period = period)\n",
    "        time.sleep(2)\n",
    "        if df.empty:\n",
    "            stocks_not_downloaded.append(tickers)\n",
    "        the_file = folder + tickers.replace('.','_')+'.csv'\n",
    "        print(the_file,'Saved')\n",
    "        df.to_csv(the_file)\n",
    "    except Exception as ex:\n",
    "        stocks_not_downloaded.append(tickers)\n",
    "        print('Couldnt get data for:',tickers)"
   ]
  },
  {
   "cell_type": "code",
   "execution_count": 7,
   "id": "f28b2095",
   "metadata": {},
   "outputs": [
    {
     "name": "stdout",
     "output_type": "stream",
     "text": [
      "Get Data for : ADRO.JK\n",
      "C:/Users/davin/Documents/Data Science/My Projects/Untitled Folder/My Portfolio/5y/ADRO_JK.csv Saved\n",
      "Get Data for : ANTM.JK\n",
      "C:/Users/davin/Documents/Data Science/My Projects/Untitled Folder/My Portfolio/5y/ANTM_JK.csv Saved\n",
      "Get Data for : ASII.JK\n",
      "C:/Users/davin/Documents/Data Science/My Projects/Untitled Folder/My Portfolio/5y/ASII_JK.csv Saved\n",
      "Get Data for : BBCA.JK\n",
      "C:/Users/davin/Documents/Data Science/My Projects/Untitled Folder/My Portfolio/5y/BBCA_JK.csv Saved\n",
      "Get Data for : BBNI.JK\n",
      "C:/Users/davin/Documents/Data Science/My Projects/Untitled Folder/My Portfolio/5y/BBNI_JK.csv Saved\n",
      "Get Data for : BBRI.JK\n",
      "C:/Users/davin/Documents/Data Science/My Projects/Untitled Folder/My Portfolio/5y/BBRI_JK.csv Saved\n",
      "Get Data for : BBTN.JK\n",
      "C:/Users/davin/Documents/Data Science/My Projects/Untitled Folder/My Portfolio/5y/BBTN_JK.csv Saved\n",
      "Get Data for : BMRI.JK\n",
      "C:/Users/davin/Documents/Data Science/My Projects/Untitled Folder/My Portfolio/5y/BMRI_JK.csv Saved\n",
      "Get Data for : BRPT.JK\n",
      "C:/Users/davin/Documents/Data Science/My Projects/Untitled Folder/My Portfolio/5y/BRPT_JK.csv Saved\n",
      "Get Data for : BUKA.JK\n",
      "C:/Users/davin/Documents/Data Science/My Projects/Untitled Folder/My Portfolio/5y/BUKA_JK.csv Saved\n",
      "Get Data for : CPIN.JK\n",
      "C:/Users/davin/Documents/Data Science/My Projects/Untitled Folder/My Portfolio/5y/CPIN_JK.csv Saved\n",
      "Get Data for : EMTK.JK\n",
      "C:/Users/davin/Documents/Data Science/My Projects/Untitled Folder/My Portfolio/5y/EMTK_JK.csv Saved\n",
      "Get Data for : EXCL.JK\n",
      "C:/Users/davin/Documents/Data Science/My Projects/Untitled Folder/My Portfolio/5y/EXCL_JK.csv Saved\n",
      "Get Data for : ICBP.JK\n",
      "C:/Users/davin/Documents/Data Science/My Projects/Untitled Folder/My Portfolio/5y/ICBP_JK.csv Saved\n",
      "Get Data for : INCO.JK\n",
      "C:/Users/davin/Documents/Data Science/My Projects/Untitled Folder/My Portfolio/5y/INCO_JK.csv Saved\n",
      "Get Data for : INDF.JK\n",
      "C:/Users/davin/Documents/Data Science/My Projects/Untitled Folder/My Portfolio/5y/INDF_JK.csv Saved\n",
      "Get Data for : INKP.JK\n",
      "C:/Users/davin/Documents/Data Science/My Projects/Untitled Folder/My Portfolio/5y/INKP_JK.csv Saved\n",
      "Get Data for : KLBF.JK\n",
      "C:/Users/davin/Documents/Data Science/My Projects/Untitled Folder/My Portfolio/5y/KLBF_JK.csv Saved\n",
      "Get Data for : MDKA.JK\n",
      "C:/Users/davin/Documents/Data Science/My Projects/Untitled Folder/My Portfolio/5y/MDKA_JK.csv Saved\n",
      "Get Data for : MIKA.JK\n",
      "C:/Users/davin/Documents/Data Science/My Projects/Untitled Folder/My Portfolio/5y/MIKA_JK.csv Saved\n",
      "Get Data for : PGAS.JK\n",
      "C:/Users/davin/Documents/Data Science/My Projects/Untitled Folder/My Portfolio/5y/PGAS_JK.csv Saved\n",
      "Get Data for : PTBA.JK\n",
      "C:/Users/davin/Documents/Data Science/My Projects/Untitled Folder/My Portfolio/5y/PTBA_JK.csv Saved\n",
      "Get Data for : SMGR.JK\n",
      "C:/Users/davin/Documents/Data Science/My Projects/Untitled Folder/My Portfolio/5y/SMGR_JK.csv Saved\n",
      "Get Data for : TBIG.JK\n",
      "C:/Users/davin/Documents/Data Science/My Projects/Untitled Folder/My Portfolio/5y/TBIG_JK.csv Saved\n",
      "Get Data for : TINS.JK\n",
      "C:/Users/davin/Documents/Data Science/My Projects/Untitled Folder/My Portfolio/5y/TINS_JK.csv Saved\n",
      "Get Data for : TLKM.JK\n",
      "C:/Users/davin/Documents/Data Science/My Projects/Untitled Folder/My Portfolio/5y/TLKM_JK.csv Saved\n",
      "Get Data for : TOWR.JK\n",
      "C:/Users/davin/Documents/Data Science/My Projects/Untitled Folder/My Portfolio/5y/TOWR_JK.csv Saved\n",
      "Get Data for : UNTR.JK\n",
      "C:/Users/davin/Documents/Data Science/My Projects/Untitled Folder/My Portfolio/5y/UNTR_JK.csv Saved\n",
      "Get Data for : UNVR.JK\n",
      "C:/Users/davin/Documents/Data Science/My Projects/Untitled Folder/My Portfolio/5y/UNVR_JK.csv Saved\n",
      "Get Data for : WSKT.JK\n",
      "C:/Users/davin/Documents/Data Science/My Projects/Untitled Folder/My Portfolio/5y/WSKT_JK.csv Saved\n",
      "Get Data for : ADMF.JK\n",
      "C:/Users/davin/Documents/Data Science/My Projects/Untitled Folder/My Portfolio/5y/ADMF_JK.csv Saved\n",
      "Get Data for : HEXA.JK\n",
      "C:/Users/davin/Documents/Data Science/My Projects/Untitled Folder/My Portfolio/5y/HEXA_JK.csv Saved\n",
      "Get Data for : HMSP.JK\n",
      "C:/Users/davin/Documents/Data Science/My Projects/Untitled Folder/My Portfolio/5y/HMSP_JK.csv Saved\n",
      "Get Data for : ITMG.JK\n",
      "C:/Users/davin/Documents/Data Science/My Projects/Untitled Folder/My Portfolio/5y/ITMG_JK.csv Saved\n",
      "Get Data for : MPMX.JK\n",
      "C:/Users/davin/Documents/Data Science/My Projects/Untitled Folder/My Portfolio/5y/MPMX_JK.csv Saved\n",
      "Finished\n"
     ]
    }
   ],
   "source": [
    "folder = \"C:/Users/davin/Documents/Data Science/My Projects/Untitled Folder/My Portfolio/5y/\"\n",
    "for x in range(35):\n",
    "    save_stock_to_csv(folder,tickers[x],'5y')\n",
    "print('Finished')"
   ]
  },
  {
   "cell_type": "code",
   "execution_count": 8,
   "id": "3fb48705",
   "metadata": {},
   "outputs": [
    {
     "name": "stdout",
     "output_type": "stream",
     "text": [
      "Get Data for : ADRO.JK\n",
      "C:/Users/davin/Documents/Data Science/My Projects/Untitled Folder/My Portfolio/1y/ADRO_JK.csv Saved\n",
      "Get Data for : ANTM.JK\n",
      "C:/Users/davin/Documents/Data Science/My Projects/Untitled Folder/My Portfolio/1y/ANTM_JK.csv Saved\n",
      "Get Data for : ASII.JK\n",
      "C:/Users/davin/Documents/Data Science/My Projects/Untitled Folder/My Portfolio/1y/ASII_JK.csv Saved\n",
      "Get Data for : BBCA.JK\n",
      "C:/Users/davin/Documents/Data Science/My Projects/Untitled Folder/My Portfolio/1y/BBCA_JK.csv Saved\n",
      "Get Data for : BBNI.JK\n",
      "C:/Users/davin/Documents/Data Science/My Projects/Untitled Folder/My Portfolio/1y/BBNI_JK.csv Saved\n",
      "Get Data for : BBRI.JK\n",
      "C:/Users/davin/Documents/Data Science/My Projects/Untitled Folder/My Portfolio/1y/BBRI_JK.csv Saved\n",
      "Get Data for : BBTN.JK\n",
      "C:/Users/davin/Documents/Data Science/My Projects/Untitled Folder/My Portfolio/1y/BBTN_JK.csv Saved\n",
      "Get Data for : BMRI.JK\n",
      "C:/Users/davin/Documents/Data Science/My Projects/Untitled Folder/My Portfolio/1y/BMRI_JK.csv Saved\n",
      "Get Data for : BRPT.JK\n",
      "C:/Users/davin/Documents/Data Science/My Projects/Untitled Folder/My Portfolio/1y/BRPT_JK.csv Saved\n",
      "Get Data for : BUKA.JK\n",
      "C:/Users/davin/Documents/Data Science/My Projects/Untitled Folder/My Portfolio/1y/BUKA_JK.csv Saved\n",
      "Get Data for : CPIN.JK\n",
      "C:/Users/davin/Documents/Data Science/My Projects/Untitled Folder/My Portfolio/1y/CPIN_JK.csv Saved\n",
      "Get Data for : EMTK.JK\n",
      "C:/Users/davin/Documents/Data Science/My Projects/Untitled Folder/My Portfolio/1y/EMTK_JK.csv Saved\n",
      "Get Data for : EXCL.JK\n",
      "C:/Users/davin/Documents/Data Science/My Projects/Untitled Folder/My Portfolio/1y/EXCL_JK.csv Saved\n",
      "Get Data for : ICBP.JK\n",
      "C:/Users/davin/Documents/Data Science/My Projects/Untitled Folder/My Portfolio/1y/ICBP_JK.csv Saved\n",
      "Get Data for : INCO.JK\n",
      "C:/Users/davin/Documents/Data Science/My Projects/Untitled Folder/My Portfolio/1y/INCO_JK.csv Saved\n",
      "Get Data for : INDF.JK\n",
      "C:/Users/davin/Documents/Data Science/My Projects/Untitled Folder/My Portfolio/1y/INDF_JK.csv Saved\n",
      "Get Data for : INKP.JK\n",
      "C:/Users/davin/Documents/Data Science/My Projects/Untitled Folder/My Portfolio/1y/INKP_JK.csv Saved\n",
      "Get Data for : KLBF.JK\n",
      "C:/Users/davin/Documents/Data Science/My Projects/Untitled Folder/My Portfolio/1y/KLBF_JK.csv Saved\n",
      "Get Data for : MDKA.JK\n",
      "C:/Users/davin/Documents/Data Science/My Projects/Untitled Folder/My Portfolio/1y/MDKA_JK.csv Saved\n",
      "Get Data for : MIKA.JK\n",
      "C:/Users/davin/Documents/Data Science/My Projects/Untitled Folder/My Portfolio/1y/MIKA_JK.csv Saved\n",
      "Get Data for : PGAS.JK\n",
      "C:/Users/davin/Documents/Data Science/My Projects/Untitled Folder/My Portfolio/1y/PGAS_JK.csv Saved\n",
      "Get Data for : PTBA.JK\n",
      "C:/Users/davin/Documents/Data Science/My Projects/Untitled Folder/My Portfolio/1y/PTBA_JK.csv Saved\n",
      "Get Data for : SMGR.JK\n",
      "C:/Users/davin/Documents/Data Science/My Projects/Untitled Folder/My Portfolio/1y/SMGR_JK.csv Saved\n",
      "Get Data for : TBIG.JK\n",
      "C:/Users/davin/Documents/Data Science/My Projects/Untitled Folder/My Portfolio/1y/TBIG_JK.csv Saved\n",
      "Get Data for : TINS.JK\n",
      "C:/Users/davin/Documents/Data Science/My Projects/Untitled Folder/My Portfolio/1y/TINS_JK.csv Saved\n",
      "Get Data for : TLKM.JK\n",
      "C:/Users/davin/Documents/Data Science/My Projects/Untitled Folder/My Portfolio/1y/TLKM_JK.csv Saved\n",
      "Get Data for : TOWR.JK\n",
      "C:/Users/davin/Documents/Data Science/My Projects/Untitled Folder/My Portfolio/1y/TOWR_JK.csv Saved\n",
      "Get Data for : UNTR.JK\n",
      "C:/Users/davin/Documents/Data Science/My Projects/Untitled Folder/My Portfolio/1y/UNTR_JK.csv Saved\n",
      "Get Data for : UNVR.JK\n",
      "C:/Users/davin/Documents/Data Science/My Projects/Untitled Folder/My Portfolio/1y/UNVR_JK.csv Saved\n",
      "Get Data for : WSKT.JK\n",
      "C:/Users/davin/Documents/Data Science/My Projects/Untitled Folder/My Portfolio/1y/WSKT_JK.csv Saved\n",
      "Get Data for : ADMF.JK\n",
      "C:/Users/davin/Documents/Data Science/My Projects/Untitled Folder/My Portfolio/1y/ADMF_JK.csv Saved\n",
      "Get Data for : HEXA.JK\n",
      "C:/Users/davin/Documents/Data Science/My Projects/Untitled Folder/My Portfolio/1y/HEXA_JK.csv Saved\n",
      "Get Data for : HMSP.JK\n",
      "C:/Users/davin/Documents/Data Science/My Projects/Untitled Folder/My Portfolio/1y/HMSP_JK.csv Saved\n",
      "Get Data for : ITMG.JK\n",
      "C:/Users/davin/Documents/Data Science/My Projects/Untitled Folder/My Portfolio/1y/ITMG_JK.csv Saved\n",
      "Get Data for : MPMX.JK\n",
      "C:/Users/davin/Documents/Data Science/My Projects/Untitled Folder/My Portfolio/1y/MPMX_JK.csv Saved\n",
      "Finished\n"
     ]
    }
   ],
   "source": [
    "folder = \"C:/Users/davin/Documents/Data Science/My Projects/Untitled Folder/My Portfolio/1y/\"\n",
    "for x in range(35):\n",
    "    save_stock_to_csv(folder,tickers[x],'1y')\n",
    "print('Finished')"
   ]
  },
  {
   "cell_type": "code",
   "execution_count": 9,
   "id": "dc66b848",
   "metadata": {},
   "outputs": [
    {
     "name": "stdout",
     "output_type": "stream",
     "text": [
      "Get Data for : ADRO.JK\n",
      "C:/Users/davin/Documents/Data Science/My Projects/Untitled Folder/My Portfolio/6mo/ADRO_JK.csv Saved\n",
      "Get Data for : ANTM.JK\n",
      "C:/Users/davin/Documents/Data Science/My Projects/Untitled Folder/My Portfolio/6mo/ANTM_JK.csv Saved\n",
      "Get Data for : ASII.JK\n",
      "C:/Users/davin/Documents/Data Science/My Projects/Untitled Folder/My Portfolio/6mo/ASII_JK.csv Saved\n",
      "Get Data for : BBCA.JK\n",
      "C:/Users/davin/Documents/Data Science/My Projects/Untitled Folder/My Portfolio/6mo/BBCA_JK.csv Saved\n",
      "Get Data for : BBNI.JK\n",
      "C:/Users/davin/Documents/Data Science/My Projects/Untitled Folder/My Portfolio/6mo/BBNI_JK.csv Saved\n",
      "Get Data for : BBRI.JK\n",
      "C:/Users/davin/Documents/Data Science/My Projects/Untitled Folder/My Portfolio/6mo/BBRI_JK.csv Saved\n",
      "Get Data for : BBTN.JK\n",
      "C:/Users/davin/Documents/Data Science/My Projects/Untitled Folder/My Portfolio/6mo/BBTN_JK.csv Saved\n",
      "Get Data for : BMRI.JK\n",
      "C:/Users/davin/Documents/Data Science/My Projects/Untitled Folder/My Portfolio/6mo/BMRI_JK.csv Saved\n",
      "Get Data for : BRPT.JK\n",
      "C:/Users/davin/Documents/Data Science/My Projects/Untitled Folder/My Portfolio/6mo/BRPT_JK.csv Saved\n",
      "Get Data for : BUKA.JK\n",
      "C:/Users/davin/Documents/Data Science/My Projects/Untitled Folder/My Portfolio/6mo/BUKA_JK.csv Saved\n",
      "Get Data for : CPIN.JK\n",
      "C:/Users/davin/Documents/Data Science/My Projects/Untitled Folder/My Portfolio/6mo/CPIN_JK.csv Saved\n",
      "Get Data for : EMTK.JK\n",
      "C:/Users/davin/Documents/Data Science/My Projects/Untitled Folder/My Portfolio/6mo/EMTK_JK.csv Saved\n",
      "Get Data for : EXCL.JK\n",
      "C:/Users/davin/Documents/Data Science/My Projects/Untitled Folder/My Portfolio/6mo/EXCL_JK.csv Saved\n",
      "Get Data for : ICBP.JK\n",
      "C:/Users/davin/Documents/Data Science/My Projects/Untitled Folder/My Portfolio/6mo/ICBP_JK.csv Saved\n",
      "Get Data for : INCO.JK\n",
      "C:/Users/davin/Documents/Data Science/My Projects/Untitled Folder/My Portfolio/6mo/INCO_JK.csv Saved\n",
      "Get Data for : INDF.JK\n",
      "C:/Users/davin/Documents/Data Science/My Projects/Untitled Folder/My Portfolio/6mo/INDF_JK.csv Saved\n",
      "Get Data for : INKP.JK\n",
      "C:/Users/davin/Documents/Data Science/My Projects/Untitled Folder/My Portfolio/6mo/INKP_JK.csv Saved\n",
      "Get Data for : KLBF.JK\n",
      "C:/Users/davin/Documents/Data Science/My Projects/Untitled Folder/My Portfolio/6mo/KLBF_JK.csv Saved\n",
      "Get Data for : MDKA.JK\n",
      "C:/Users/davin/Documents/Data Science/My Projects/Untitled Folder/My Portfolio/6mo/MDKA_JK.csv Saved\n",
      "Get Data for : MIKA.JK\n",
      "C:/Users/davin/Documents/Data Science/My Projects/Untitled Folder/My Portfolio/6mo/MIKA_JK.csv Saved\n",
      "Get Data for : PGAS.JK\n",
      "C:/Users/davin/Documents/Data Science/My Projects/Untitled Folder/My Portfolio/6mo/PGAS_JK.csv Saved\n",
      "Get Data for : PTBA.JK\n",
      "C:/Users/davin/Documents/Data Science/My Projects/Untitled Folder/My Portfolio/6mo/PTBA_JK.csv Saved\n",
      "Get Data for : SMGR.JK\n",
      "C:/Users/davin/Documents/Data Science/My Projects/Untitled Folder/My Portfolio/6mo/SMGR_JK.csv Saved\n",
      "Get Data for : TBIG.JK\n",
      "C:/Users/davin/Documents/Data Science/My Projects/Untitled Folder/My Portfolio/6mo/TBIG_JK.csv Saved\n",
      "Get Data for : TINS.JK\n",
      "C:/Users/davin/Documents/Data Science/My Projects/Untitled Folder/My Portfolio/6mo/TINS_JK.csv Saved\n",
      "Get Data for : TLKM.JK\n",
      "C:/Users/davin/Documents/Data Science/My Projects/Untitled Folder/My Portfolio/6mo/TLKM_JK.csv Saved\n",
      "Get Data for : TOWR.JK\n",
      "C:/Users/davin/Documents/Data Science/My Projects/Untitled Folder/My Portfolio/6mo/TOWR_JK.csv Saved\n",
      "Get Data for : UNTR.JK\n",
      "C:/Users/davin/Documents/Data Science/My Projects/Untitled Folder/My Portfolio/6mo/UNTR_JK.csv Saved\n",
      "Get Data for : UNVR.JK\n",
      "C:/Users/davin/Documents/Data Science/My Projects/Untitled Folder/My Portfolio/6mo/UNVR_JK.csv Saved\n",
      "Get Data for : WSKT.JK\n",
      "C:/Users/davin/Documents/Data Science/My Projects/Untitled Folder/My Portfolio/6mo/WSKT_JK.csv Saved\n",
      "Get Data for : ADMF.JK\n",
      "C:/Users/davin/Documents/Data Science/My Projects/Untitled Folder/My Portfolio/6mo/ADMF_JK.csv Saved\n",
      "Get Data for : HEXA.JK\n",
      "C:/Users/davin/Documents/Data Science/My Projects/Untitled Folder/My Portfolio/6mo/HEXA_JK.csv Saved\n",
      "Get Data for : HMSP.JK\n",
      "C:/Users/davin/Documents/Data Science/My Projects/Untitled Folder/My Portfolio/6mo/HMSP_JK.csv Saved\n",
      "Get Data for : ITMG.JK\n",
      "C:/Users/davin/Documents/Data Science/My Projects/Untitled Folder/My Portfolio/6mo/ITMG_JK.csv Saved\n",
      "Get Data for : MPMX.JK\n",
      "C:/Users/davin/Documents/Data Science/My Projects/Untitled Folder/My Portfolio/6mo/MPMX_JK.csv Saved\n",
      "Finished\n"
     ]
    }
   ],
   "source": [
    "folder = \"C:/Users/davin/Documents/Data Science/My Projects/Untitled Folder/My Portfolio/6mo/\"\n",
    "for x in range(35):\n",
    "    save_stock_to_csv(folder,tickers[x],'6mo')\n",
    "print('Finished')"
   ]
  },
  {
   "cell_type": "code",
   "execution_count": 10,
   "id": "ea1b5279",
   "metadata": {},
   "outputs": [
    {
     "name": "stdout",
     "output_type": "stream",
     "text": [
      "Get Data for : ADRO.JK\n",
      "C:/Users/davin/Documents/Data Science/My Projects/Untitled Folder/My Portfolio/3mo/ADRO_JK.csv Saved\n",
      "Get Data for : ANTM.JK\n",
      "C:/Users/davin/Documents/Data Science/My Projects/Untitled Folder/My Portfolio/3mo/ANTM_JK.csv Saved\n",
      "Get Data for : ASII.JK\n",
      "C:/Users/davin/Documents/Data Science/My Projects/Untitled Folder/My Portfolio/3mo/ASII_JK.csv Saved\n",
      "Get Data for : BBCA.JK\n",
      "C:/Users/davin/Documents/Data Science/My Projects/Untitled Folder/My Portfolio/3mo/BBCA_JK.csv Saved\n",
      "Get Data for : BBNI.JK\n",
      "C:/Users/davin/Documents/Data Science/My Projects/Untitled Folder/My Portfolio/3mo/BBNI_JK.csv Saved\n",
      "Get Data for : BBRI.JK\n",
      "C:/Users/davin/Documents/Data Science/My Projects/Untitled Folder/My Portfolio/3mo/BBRI_JK.csv Saved\n",
      "Get Data for : BBTN.JK\n",
      "C:/Users/davin/Documents/Data Science/My Projects/Untitled Folder/My Portfolio/3mo/BBTN_JK.csv Saved\n",
      "Get Data for : BMRI.JK\n",
      "C:/Users/davin/Documents/Data Science/My Projects/Untitled Folder/My Portfolio/3mo/BMRI_JK.csv Saved\n",
      "Get Data for : BRPT.JK\n",
      "C:/Users/davin/Documents/Data Science/My Projects/Untitled Folder/My Portfolio/3mo/BRPT_JK.csv Saved\n",
      "Get Data for : BUKA.JK\n",
      "C:/Users/davin/Documents/Data Science/My Projects/Untitled Folder/My Portfolio/3mo/BUKA_JK.csv Saved\n",
      "Get Data for : CPIN.JK\n",
      "C:/Users/davin/Documents/Data Science/My Projects/Untitled Folder/My Portfolio/3mo/CPIN_JK.csv Saved\n",
      "Get Data for : EMTK.JK\n",
      "C:/Users/davin/Documents/Data Science/My Projects/Untitled Folder/My Portfolio/3mo/EMTK_JK.csv Saved\n",
      "Get Data for : EXCL.JK\n",
      "C:/Users/davin/Documents/Data Science/My Projects/Untitled Folder/My Portfolio/3mo/EXCL_JK.csv Saved\n",
      "Get Data for : ICBP.JK\n",
      "C:/Users/davin/Documents/Data Science/My Projects/Untitled Folder/My Portfolio/3mo/ICBP_JK.csv Saved\n",
      "Get Data for : INCO.JK\n",
      "C:/Users/davin/Documents/Data Science/My Projects/Untitled Folder/My Portfolio/3mo/INCO_JK.csv Saved\n",
      "Get Data for : INDF.JK\n",
      "C:/Users/davin/Documents/Data Science/My Projects/Untitled Folder/My Portfolio/3mo/INDF_JK.csv Saved\n",
      "Get Data for : INKP.JK\n",
      "C:/Users/davin/Documents/Data Science/My Projects/Untitled Folder/My Portfolio/3mo/INKP_JK.csv Saved\n",
      "Get Data for : KLBF.JK\n",
      "C:/Users/davin/Documents/Data Science/My Projects/Untitled Folder/My Portfolio/3mo/KLBF_JK.csv Saved\n",
      "Get Data for : MDKA.JK\n",
      "C:/Users/davin/Documents/Data Science/My Projects/Untitled Folder/My Portfolio/3mo/MDKA_JK.csv Saved\n",
      "Get Data for : MIKA.JK\n",
      "C:/Users/davin/Documents/Data Science/My Projects/Untitled Folder/My Portfolio/3mo/MIKA_JK.csv Saved\n",
      "Get Data for : PGAS.JK\n",
      "C:/Users/davin/Documents/Data Science/My Projects/Untitled Folder/My Portfolio/3mo/PGAS_JK.csv Saved\n",
      "Get Data for : PTBA.JK\n",
      "C:/Users/davin/Documents/Data Science/My Projects/Untitled Folder/My Portfolio/3mo/PTBA_JK.csv Saved\n",
      "Get Data for : SMGR.JK\n",
      "C:/Users/davin/Documents/Data Science/My Projects/Untitled Folder/My Portfolio/3mo/SMGR_JK.csv Saved\n",
      "Get Data for : TBIG.JK\n",
      "C:/Users/davin/Documents/Data Science/My Projects/Untitled Folder/My Portfolio/3mo/TBIG_JK.csv Saved\n",
      "Get Data for : TINS.JK\n",
      "C:/Users/davin/Documents/Data Science/My Projects/Untitled Folder/My Portfolio/3mo/TINS_JK.csv Saved\n",
      "Get Data for : TLKM.JK\n",
      "C:/Users/davin/Documents/Data Science/My Projects/Untitled Folder/My Portfolio/3mo/TLKM_JK.csv Saved\n",
      "Get Data for : TOWR.JK\n",
      "C:/Users/davin/Documents/Data Science/My Projects/Untitled Folder/My Portfolio/3mo/TOWR_JK.csv Saved\n",
      "Get Data for : UNTR.JK\n",
      "C:/Users/davin/Documents/Data Science/My Projects/Untitled Folder/My Portfolio/3mo/UNTR_JK.csv Saved\n",
      "Get Data for : UNVR.JK\n",
      "C:/Users/davin/Documents/Data Science/My Projects/Untitled Folder/My Portfolio/3mo/UNVR_JK.csv Saved\n",
      "Get Data for : WSKT.JK\n",
      "C:/Users/davin/Documents/Data Science/My Projects/Untitled Folder/My Portfolio/3mo/WSKT_JK.csv Saved\n",
      "Get Data for : ADMF.JK\n",
      "C:/Users/davin/Documents/Data Science/My Projects/Untitled Folder/My Portfolio/3mo/ADMF_JK.csv Saved\n",
      "Get Data for : HEXA.JK\n",
      "C:/Users/davin/Documents/Data Science/My Projects/Untitled Folder/My Portfolio/3mo/HEXA_JK.csv Saved\n",
      "Get Data for : HMSP.JK\n",
      "C:/Users/davin/Documents/Data Science/My Projects/Untitled Folder/My Portfolio/3mo/HMSP_JK.csv Saved\n",
      "Get Data for : ITMG.JK\n",
      "C:/Users/davin/Documents/Data Science/My Projects/Untitled Folder/My Portfolio/3mo/ITMG_JK.csv Saved\n",
      "Get Data for : MPMX.JK\n",
      "C:/Users/davin/Documents/Data Science/My Projects/Untitled Folder/My Portfolio/3mo/MPMX_JK.csv Saved\n",
      "Finished\n"
     ]
    }
   ],
   "source": [
    "folder = \"C:/Users/davin/Documents/Data Science/My Projects/Untitled Folder/My Portfolio/3mo/\"\n",
    "for x in range(35):\n",
    "    save_stock_to_csv(folder,tickers[x],'3mo')\n",
    "print('Finished')"
   ]
  },
  {
   "cell_type": "markdown",
   "id": "208c4f38",
   "metadata": {},
   "source": [
    "## daily return"
   ]
  },
  {
   "cell_type": "code",
   "execution_count": 11,
   "id": "515712d5",
   "metadata": {},
   "outputs": [],
   "source": [
    "def daily_return_to_df(df):\n",
    "    df['daily_return'] = (df['Close']/df['Close'].shift(1))-1\n",
    "    #df.to_csv(Path + ticker + '.csv')\n",
    "    return df"
   ]
  },
  {
   "cell_type": "markdown",
   "id": "6fcbe03c",
   "metadata": {},
   "source": [
    "## cumulative return"
   ]
  },
  {
   "cell_type": "code",
   "execution_count": 12,
   "id": "58ac14c0",
   "metadata": {},
   "outputs": [],
   "source": [
    "def cum_return_to_df(df):\n",
    "    df['cum_return'] = (1+df['daily_return']).cumprod()\n",
    "    #df.to_csv(Path + ticker + '.csv')\n",
    "    return df"
   ]
  },
  {
   "cell_type": "markdown",
   "id": "720df50e",
   "metadata": {},
   "source": [
    "## Bolinger bands"
   ]
  },
  {
   "cell_type": "code",
   "execution_count": 13,
   "id": "28bb8055",
   "metadata": {},
   "outputs": [],
   "source": [
    "## Bolinger bands\n",
    "def short_bollinger_bands(df):\n",
    "    df['S_Middle_band'] = df['Close'].rolling(window = 10).mean()\n",
    "    df['S_Upper_band'] = df['S_Middle_band']+ 1.50 * df['Close'].rolling(window = 10).std()\n",
    "    df['S_Lower_band'] = df['S_Middle_band']- 1.50 * df['Close'].rolling(window = 10).std()\n",
    "    #df.to_csv(Path + ticker + '.csv')\n",
    "    return df"
   ]
  },
  {
   "cell_type": "code",
   "execution_count": 14,
   "id": "364c11ac",
   "metadata": {},
   "outputs": [],
   "source": [
    "def medium_bollinger_bands(df):\n",
    "    df['M_Middle_band'] = df['Close'].rolling(window = 20).mean()\n",
    "    df['M_Upper_band'] = df['M_Middle_band']+ 2 * df['Close'].rolling(window = 20).std()\n",
    "    df['M_Lower_band'] = df['M_Middle_band']- 2 * df['Close'].rolling(window = 20).std()\n",
    "    #df.to_csv(Path + ticker + '.csv')\n",
    "    return df"
   ]
  },
  {
   "cell_type": "code",
   "execution_count": 15,
   "id": "3fa6211b",
   "metadata": {},
   "outputs": [],
   "source": [
    "def long_bollinger_bands(df):\n",
    "    df['L_Middle_band'] = df['Close'].rolling(window = 50).mean()\n",
    "    df['L_Upper_band'] = df['L_Middle_band']+ 2.50 * df['Close'].rolling(window = 50).std()\n",
    "    df['L_Lower_band'] = df['L_Middle_band']- 2.50 * df['Close'].rolling(window = 50).std()\n",
    "    #df.to_csv(Path + ticker + '.csv')\n",
    "    return df"
   ]
  },
  {
   "cell_type": "markdown",
   "id": "915761af",
   "metadata": {},
   "source": [
    "## Get Dataframe from CSV"
   ]
  },
  {
   "cell_type": "code",
   "execution_count": 16,
   "id": "6571de87",
   "metadata": {},
   "outputs": [],
   "source": [
    "## Get Dataframe from CSV\n",
    "def get_stock_df_from_csv(tickers,Path):\n",
    "    try:\n",
    "        df = pd.read_csv(Path + tickers + '.csv', index_col=0)\n",
    "    except FileNotFoundError as ex:\n",
    "        Print('File Not Found')\n",
    "    else:\n",
    "        return df"
   ]
  },
  {
   "cell_type": "markdown",
   "id": "d5d5fd8e",
   "metadata": {},
   "source": [
    "## Add Daily, Cumulative, Bollinger Bands to 5 Years Dataframes"
   ]
  },
  {
   "cell_type": "code",
   "execution_count": 17,
   "id": "f9d4992c",
   "metadata": {},
   "outputs": [
    {
     "name": "stdout",
     "output_type": "stream",
     "text": [
      "['ADMF_JK', 'ADRO_JK', 'ANTM_JK', 'ASII_JK', 'BBCA_JK', 'BBNI_JK', 'BBRI_JK', 'BBTN_JK', 'BMRI_JK', 'BRPT_JK', 'BUKA_JK', 'CPIN_JK', 'EMTK_JK', 'EXCL_JK', 'HEXA_JK', 'HMSP_JK', 'ICBP_JK', 'INCO_JK', 'INDF_JK', 'INKP_JK', 'ITMG_JK', 'KLBF_JK', 'MDKA_JK', 'MIKA_JK', 'MPMX_JK', 'PGAS_JK', 'PTBA_JK', 'SMGR_JK', 'TBIG_JK', 'TINS_JK', 'TLKM_JK', 'TOWR_JK', 'UNTR_JK', 'UNVR_JK', 'WSKT_JK']\n",
      "35\n"
     ]
    }
   ],
   "source": [
    "files = [x for x in listdir(Path_5y) if isfile(join(Path_5y,x))]\n",
    "tickers = [os.path.splitext(x)[0] for x in files]\n",
    "tickers.sort()\n",
    "print(tickers)\n",
    "print(len(tickers))"
   ]
  },
  {
   "cell_type": "code",
   "execution_count": 18,
   "id": "28c1762e",
   "metadata": {},
   "outputs": [
    {
     "name": "stdout",
     "output_type": "stream",
     "text": [
      "Working on : ADMF_JK\n",
      "Working on : ADRO_JK\n",
      "Working on : ANTM_JK\n",
      "Working on : ASII_JK\n",
      "Working on : BBCA_JK\n",
      "Working on : BBNI_JK\n",
      "Working on : BBRI_JK\n",
      "Working on : BBTN_JK\n",
      "Working on : BMRI_JK\n",
      "Working on : BRPT_JK\n",
      "Working on : BUKA_JK\n",
      "Working on : CPIN_JK\n",
      "Working on : EMTK_JK\n",
      "Working on : EXCL_JK\n",
      "Working on : HEXA_JK\n",
      "Working on : HMSP_JK\n",
      "Working on : ICBP_JK\n",
      "Working on : INCO_JK\n",
      "Working on : INDF_JK\n",
      "Working on : INKP_JK\n",
      "Working on : ITMG_JK\n",
      "Working on : KLBF_JK\n",
      "Working on : MDKA_JK\n",
      "Working on : MIKA_JK\n",
      "Working on : MPMX_JK\n",
      "Working on : PGAS_JK\n",
      "Working on : PTBA_JK\n",
      "Working on : SMGR_JK\n",
      "Working on : TBIG_JK\n",
      "Working on : TINS_JK\n",
      "Working on : TLKM_JK\n",
      "Working on : TOWR_JK\n",
      "Working on : UNTR_JK\n",
      "Working on : UNVR_JK\n",
      "Working on : WSKT_JK\n"
     ]
    }
   ],
   "source": [
    "## Add Daily, Cumulative Bollinger Bands & Ichimoku to Dataframes\n",
    "for x in tickers:\n",
    "    try:\n",
    "        print(\"Working on :\", x)\n",
    "        new_df = get_stock_df_from_csv(x,Path_5y)\n",
    "        new_df = daily_return_to_df(new_df)\n",
    "        new_df = cum_return_to_df(new_df)\n",
    "        new_df = short_bollinger_bands(new_df)\n",
    "        new_df = medium_bollinger_bands(new_df)\n",
    "        new_df = long_bollinger_bands(new_df)\n",
    "        #new_df = Ichimoku(new_df)\n",
    "        new_df.to_csv(Path_5y + x + '.csv')\n",
    "    except Exception as ex:\n",
    "        print(ex)"
   ]
  },
  {
   "cell_type": "markdown",
   "id": "c24c047b",
   "metadata": {},
   "source": [
    "## Add Daily, Cumulative, Bollinger Bands to 1 Year Dataframes"
   ]
  },
  {
   "cell_type": "code",
   "execution_count": 19,
   "id": "15ba68b6",
   "metadata": {},
   "outputs": [
    {
     "name": "stdout",
     "output_type": "stream",
     "text": [
      "['ADMF_JK', 'ADRO_JK', 'ANTM_JK', 'ASII_JK', 'BBCA_JK', 'BBNI_JK', 'BBRI_JK', 'BBTN_JK', 'BMRI_JK', 'BRPT_JK', 'BUKA_JK', 'CPIN_JK', 'EMTK_JK', 'EXCL_JK', 'HEXA_JK', 'HMSP_JK', 'ICBP_JK', 'INCO_JK', 'INDF_JK', 'INKP_JK', 'ITMG_JK', 'KLBF_JK', 'MDKA_JK', 'MIKA_JK', 'MPMX_JK', 'PGAS_JK', 'PTBA_JK', 'SMGR_JK', 'TBIG_JK', 'TINS_JK', 'TLKM_JK', 'TOWR_JK', 'UNTR_JK', 'UNVR_JK', 'WSKT_JK']\n",
      "35\n"
     ]
    }
   ],
   "source": [
    "files = [x for x in listdir(Path_1y) if isfile(join(Path_1y,x))]\n",
    "tickers = [os.path.splitext(x)[0] for x in files]\n",
    "tickers.sort()\n",
    "print(tickers)\n",
    "print(len(tickers))"
   ]
  },
  {
   "cell_type": "code",
   "execution_count": 20,
   "id": "16388765",
   "metadata": {},
   "outputs": [
    {
     "name": "stdout",
     "output_type": "stream",
     "text": [
      "Working on : ADMF_JK\n",
      "Working on : ADRO_JK\n",
      "Working on : ANTM_JK\n",
      "Working on : ASII_JK\n",
      "Working on : BBCA_JK\n",
      "Working on : BBNI_JK\n",
      "Working on : BBRI_JK\n",
      "Working on : BBTN_JK\n",
      "Working on : BMRI_JK\n",
      "Working on : BRPT_JK\n",
      "Working on : BUKA_JK\n",
      "Working on : CPIN_JK\n",
      "Working on : EMTK_JK\n",
      "Working on : EXCL_JK\n",
      "Working on : HEXA_JK\n",
      "Working on : HMSP_JK\n",
      "Working on : ICBP_JK\n",
      "Working on : INCO_JK\n",
      "Working on : INDF_JK\n",
      "Working on : INKP_JK\n",
      "Working on : ITMG_JK\n",
      "Working on : KLBF_JK\n",
      "Working on : MDKA_JK\n",
      "Working on : MIKA_JK\n",
      "Working on : MPMX_JK\n",
      "Working on : PGAS_JK\n",
      "Working on : PTBA_JK\n",
      "Working on : SMGR_JK\n",
      "Working on : TBIG_JK\n",
      "Working on : TINS_JK\n",
      "Working on : TLKM_JK\n",
      "Working on : TOWR_JK\n",
      "Working on : UNTR_JK\n",
      "Working on : UNVR_JK\n",
      "Working on : WSKT_JK\n"
     ]
    }
   ],
   "source": [
    "for x in tickers:\n",
    "    try:\n",
    "        print(\"Working on :\", x)\n",
    "        new_df = get_stock_df_from_csv(x,Path_1y)\n",
    "        new_df = daily_return_to_df(new_df)\n",
    "        new_df = cum_return_to_df(new_df)\n",
    "        new_df = short_bollinger_bands(new_df)\n",
    "        new_df = medium_bollinger_bands(new_df)\n",
    "        new_df = long_bollinger_bands(new_df)\n",
    "        #new_df = Ichimoku(new_df)\n",
    "        new_df.to_csv(Path_1y + x + '.csv')\n",
    "    except Exception as ex:\n",
    "        print(ex)"
   ]
  },
  {
   "cell_type": "markdown",
   "id": "731e48a3",
   "metadata": {},
   "source": [
    "### Add Daily, Cumulative, Bollinger Bands to 6 Months Dataframes"
   ]
  },
  {
   "cell_type": "code",
   "execution_count": 21,
   "id": "5fc33ab1",
   "metadata": {},
   "outputs": [
    {
     "name": "stdout",
     "output_type": "stream",
     "text": [
      "['ADMF_JK', 'ADRO_JK', 'ANTM_JK', 'ASII_JK', 'BBCA_JK', 'BBNI_JK', 'BBRI_JK', 'BBTN_JK', 'BMRI_JK', 'BRPT_JK', 'BUKA_JK', 'CPIN_JK', 'EMTK_JK', 'EXCL_JK', 'HEXA_JK', 'HMSP_JK', 'ICBP_JK', 'INCO_JK', 'INDF_JK', 'INKP_JK', 'ITMG_JK', 'KLBF_JK', 'MDKA_JK', 'MIKA_JK', 'MPMX_JK', 'PGAS_JK', 'PTBA_JK', 'SMGR_JK', 'TBIG_JK', 'TINS_JK', 'TLKM_JK', 'TOWR_JK', 'UNTR_JK', 'UNVR_JK', 'WSKT_JK']\n",
      "35\n"
     ]
    }
   ],
   "source": [
    "files = [x for x in listdir(Path_6mo) if isfile(join(Path_6mo,x))]\n",
    "tickers = [os.path.splitext(x)[0] for x in files]\n",
    "tickers.sort()\n",
    "print(tickers)\n",
    "print(len(tickers))"
   ]
  },
  {
   "cell_type": "code",
   "execution_count": 22,
   "id": "4a32785c",
   "metadata": {},
   "outputs": [
    {
     "name": "stdout",
     "output_type": "stream",
     "text": [
      "Working on : ADMF_JK\n",
      "Working on : ADRO_JK\n",
      "Working on : ANTM_JK\n",
      "Working on : ASII_JK\n",
      "Working on : BBCA_JK\n",
      "Working on : BBNI_JK\n",
      "Working on : BBRI_JK\n",
      "Working on : BBTN_JK\n",
      "Working on : BMRI_JK\n",
      "Working on : BRPT_JK\n",
      "Working on : BUKA_JK\n",
      "Working on : CPIN_JK\n",
      "Working on : EMTK_JK\n",
      "Working on : EXCL_JK\n",
      "Working on : HEXA_JK\n",
      "Working on : HMSP_JK\n",
      "Working on : ICBP_JK\n",
      "Working on : INCO_JK\n",
      "Working on : INDF_JK\n",
      "Working on : INKP_JK\n",
      "Working on : ITMG_JK\n",
      "Working on : KLBF_JK\n",
      "Working on : MDKA_JK\n",
      "Working on : MIKA_JK\n",
      "Working on : MPMX_JK\n",
      "Working on : PGAS_JK\n",
      "Working on : PTBA_JK\n",
      "Working on : SMGR_JK\n",
      "Working on : TBIG_JK\n",
      "Working on : TINS_JK\n",
      "Working on : TLKM_JK\n",
      "Working on : TOWR_JK\n",
      "Working on : UNTR_JK\n",
      "Working on : UNVR_JK\n",
      "Working on : WSKT_JK\n"
     ]
    }
   ],
   "source": [
    "for x in tickers:\n",
    "    try:\n",
    "        print(\"Working on :\", x)\n",
    "        new_df = get_stock_df_from_csv(x,Path_6mo)\n",
    "        new_df = daily_return_to_df(new_df)\n",
    "        new_df = cum_return_to_df(new_df)\n",
    "        new_df = short_bollinger_bands(new_df)\n",
    "        new_df = medium_bollinger_bands(new_df)\n",
    "        new_df = long_bollinger_bands(new_df)\n",
    "        #new_df = Ichimoku(new_df)\n",
    "        new_df.to_csv(Path_6mo + x + '.csv')\n",
    "    except Exception as ex:\n",
    "        print(ex)"
   ]
  },
  {
   "cell_type": "markdown",
   "id": "ccf2b715",
   "metadata": {},
   "source": [
    "## Add Daily, Cumulative, Bollinger Bands to 3 Months Dataframes"
   ]
  },
  {
   "cell_type": "code",
   "execution_count": 23,
   "id": "eef52c63",
   "metadata": {},
   "outputs": [
    {
     "name": "stdout",
     "output_type": "stream",
     "text": [
      "['ADMF_JK', 'ADRO_JK', 'ANTM_JK', 'ASII_JK', 'BBCA_JK', 'BBNI_JK', 'BBRI_JK', 'BBTN_JK', 'BMRI_JK', 'BRPT_JK', 'BUKA_JK', 'CPIN_JK', 'EMTK_JK', 'EXCL_JK', 'HEXA_JK', 'HMSP_JK', 'ICBP_JK', 'INCO_JK', 'INDF_JK', 'INKP_JK', 'ITMG_JK', 'KLBF_JK', 'MDKA_JK', 'MIKA_JK', 'MPMX_JK', 'PGAS_JK', 'PTBA_JK', 'SMGR_JK', 'TBIG_JK', 'TINS_JK', 'TLKM_JK', 'TOWR_JK', 'UNTR_JK', 'UNVR_JK', 'WSKT_JK']\n",
      "35\n"
     ]
    }
   ],
   "source": [
    "files = [x for x in listdir(Path_3mo) if isfile(join(Path_3mo,x))]\n",
    "tickers = [os.path.splitext(x)[0] for x in files]\n",
    "tickers.sort()\n",
    "print(tickers)\n",
    "print(len(tickers))"
   ]
  },
  {
   "cell_type": "code",
   "execution_count": 24,
   "id": "f0e27717",
   "metadata": {},
   "outputs": [
    {
     "name": "stdout",
     "output_type": "stream",
     "text": [
      "Working on : ADMF_JK\n",
      "Working on : ADRO_JK\n",
      "Working on : ANTM_JK\n",
      "Working on : ASII_JK\n",
      "Working on : BBCA_JK\n",
      "Working on : BBNI_JK\n",
      "Working on : BBRI_JK\n",
      "Working on : BBTN_JK\n",
      "Working on : BMRI_JK\n",
      "Working on : BRPT_JK\n",
      "Working on : BUKA_JK\n",
      "Working on : CPIN_JK\n",
      "Working on : EMTK_JK\n",
      "Working on : EXCL_JK\n",
      "Working on : HEXA_JK\n",
      "Working on : HMSP_JK\n",
      "Working on : ICBP_JK\n",
      "Working on : INCO_JK\n",
      "Working on : INDF_JK\n",
      "Working on : INKP_JK\n",
      "Working on : ITMG_JK\n",
      "Working on : KLBF_JK\n",
      "Working on : MDKA_JK\n",
      "Working on : MIKA_JK\n",
      "Working on : MPMX_JK\n",
      "Working on : PGAS_JK\n",
      "Working on : PTBA_JK\n",
      "Working on : SMGR_JK\n",
      "Working on : TBIG_JK\n",
      "Working on : TINS_JK\n",
      "Working on : TLKM_JK\n",
      "Working on : TOWR_JK\n",
      "Working on : UNTR_JK\n",
      "Working on : UNVR_JK\n",
      "Working on : WSKT_JK\n"
     ]
    }
   ],
   "source": [
    "for x in tickers:\n",
    "    try:\n",
    "        print(\"Working on :\", x)\n",
    "        new_df = get_stock_df_from_csv(x,Path_3mo)\n",
    "        new_df = daily_return_to_df(new_df)\n",
    "        new_df = cum_return_to_df(new_df)\n",
    "        new_df = short_bollinger_bands(new_df)\n",
    "        new_df = medium_bollinger_bands(new_df)\n",
    "        new_df = long_bollinger_bands(new_df)\n",
    "        #new_df = Ichimoku(new_df)\n",
    "        new_df.to_csv(Path_3mo + x + '.csv')\n",
    "    except Exception as ex:\n",
    "        print(ex)"
   ]
  },
  {
   "cell_type": "code",
   "execution_count": null,
   "id": "e78233fc",
   "metadata": {},
   "outputs": [],
   "source": []
  },
  {
   "cell_type": "code",
   "execution_count": 25,
   "id": "e8086403",
   "metadata": {},
   "outputs": [
    {
     "name": "stdout",
     "output_type": "stream",
     "text": [
      "Requirement already satisfied: cufflinks in c:\\users\\davin\\anaconda3\\lib\\site-packages (0.17.3)\n",
      "Requirement already satisfied: pandas>=0.19.2 in c:\\users\\davin\\anaconda3\\lib\\site-packages (from cufflinks) (1.3.4)\n",
      "Requirement already satisfied: ipython>=5.3.0 in c:\\users\\davin\\anaconda3\\lib\\site-packages (from cufflinks) (7.29.0)\n",
      "Requirement already satisfied: setuptools>=34.4.1 in c:\\users\\davin\\anaconda3\\lib\\site-packages (from cufflinks) (58.0.4)\n",
      "Requirement already satisfied: six>=1.9.0 in c:\\users\\davin\\anaconda3\\lib\\site-packages (from cufflinks) (1.16.0)\n",
      "Requirement already satisfied: ipywidgets>=7.0.0 in c:\\users\\davin\\anaconda3\\lib\\site-packages (from cufflinks) (7.6.5)\n",
      "Requirement already satisfied: numpy>=1.9.2 in c:\\users\\davin\\anaconda3\\lib\\site-packages (from cufflinks) (1.20.3)\n",
      "Requirement already satisfied: colorlover>=0.2.1 in c:\\users\\davin\\anaconda3\\lib\\site-packages (from cufflinks) (0.3.0)\n",
      "Requirement already satisfied: plotly>=4.1.1 in c:\\users\\davin\\anaconda3\\lib\\site-packages (from cufflinks) (5.8.0)\n",
      "Requirement already satisfied: traitlets>=4.2 in c:\\users\\davin\\anaconda3\\lib\\site-packages (from ipython>=5.3.0->cufflinks) (5.1.0)\n",
      "Requirement already satisfied: prompt-toolkit!=3.0.0,!=3.0.1,<3.1.0,>=2.0.0 in c:\\users\\davin\\anaconda3\\lib\\site-packages (from ipython>=5.3.0->cufflinks) (3.0.20)\n",
      "Requirement already satisfied: colorama in c:\\users\\davin\\anaconda3\\lib\\site-packages (from ipython>=5.3.0->cufflinks) (0.4.4)\n",
      "Requirement already satisfied: decorator in c:\\users\\davin\\anaconda3\\lib\\site-packages (from ipython>=5.3.0->cufflinks) (5.1.0)\n",
      "Requirement already satisfied: matplotlib-inline in c:\\users\\davin\\anaconda3\\lib\\site-packages (from ipython>=5.3.0->cufflinks) (0.1.2)\n",
      "Requirement already satisfied: pygments in c:\\users\\davin\\anaconda3\\lib\\site-packages (from ipython>=5.3.0->cufflinks) (2.10.0)\n",
      "Requirement already satisfied: jedi>=0.16 in c:\\users\\davin\\anaconda3\\lib\\site-packages (from ipython>=5.3.0->cufflinks) (0.18.0)\n",
      "Requirement already satisfied: pickleshare in c:\\users\\davin\\anaconda3\\lib\\site-packages (from ipython>=5.3.0->cufflinks) (0.7.5)\n",
      "Requirement already satisfied: backcall in c:\\users\\davin\\anaconda3\\lib\\site-packages (from ipython>=5.3.0->cufflinks) (0.2.0)\n",
      "Requirement already satisfied: widgetsnbextension~=3.5.0 in c:\\users\\davin\\anaconda3\\lib\\site-packages (from ipywidgets>=7.0.0->cufflinks) (3.5.1)\n",
      "Requirement already satisfied: ipykernel>=4.5.1 in c:\\users\\davin\\anaconda3\\lib\\site-packages (from ipywidgets>=7.0.0->cufflinks) (6.4.1)\n",
      "Requirement already satisfied: jupyterlab-widgets>=1.0.0 in c:\\users\\davin\\anaconda3\\lib\\site-packages (from ipywidgets>=7.0.0->cufflinks) (1.0.0)\n",
      "Requirement already satisfied: ipython-genutils~=0.2.0 in c:\\users\\davin\\anaconda3\\lib\\site-packages (from ipywidgets>=7.0.0->cufflinks) (0.2.0)\n",
      "Requirement already satisfied: nbformat>=4.2.0 in c:\\users\\davin\\anaconda3\\lib\\site-packages (from ipywidgets>=7.0.0->cufflinks) (5.1.3)\n",
      "Requirement already satisfied: tornado<7.0,>=4.2 in c:\\users\\davin\\anaconda3\\lib\\site-packages (from ipykernel>=4.5.1->ipywidgets>=7.0.0->cufflinks) (6.1)\n",
      "Requirement already satisfied: debugpy<2.0,>=1.0.0 in c:\\users\\davin\\anaconda3\\lib\\site-packages (from ipykernel>=4.5.1->ipywidgets>=7.0.0->cufflinks) (1.4.1)\n",
      "Requirement already satisfied: jupyter-client<8.0 in c:\\users\\davin\\anaconda3\\lib\\site-packages (from ipykernel>=4.5.1->ipywidgets>=7.0.0->cufflinks) (6.1.12)\n",
      "Requirement already satisfied: parso<0.9.0,>=0.8.0 in c:\\users\\davin\\anaconda3\\lib\\site-packages (from jedi>=0.16->ipython>=5.3.0->cufflinks) (0.8.2)\n",
      "Requirement already satisfied: pyzmq>=13 in c:\\users\\davin\\anaconda3\\lib\\site-packages (from jupyter-client<8.0->ipykernel>=4.5.1->ipywidgets>=7.0.0->cufflinks) (22.2.1)\n",
      "Requirement already satisfied: python-dateutil>=2.1 in c:\\users\\davin\\anaconda3\\lib\\site-packages (from jupyter-client<8.0->ipykernel>=4.5.1->ipywidgets>=7.0.0->cufflinks) (2.8.2)\n",
      "Requirement already satisfied: jupyter-core>=4.6.0 in c:\\users\\davin\\anaconda3\\lib\\site-packages (from jupyter-client<8.0->ipykernel>=4.5.1->ipywidgets>=7.0.0->cufflinks) (4.8.1)\n",
      "Requirement already satisfied: pywin32>=1.0 in c:\\users\\davin\\anaconda3\\lib\\site-packages (from jupyter-core>=4.6.0->jupyter-client<8.0->ipykernel>=4.5.1->ipywidgets>=7.0.0->cufflinks) (228)\n",
      "Requirement already satisfied: jsonschema!=2.5.0,>=2.4 in c:\\users\\davin\\anaconda3\\lib\\site-packages (from nbformat>=4.2.0->ipywidgets>=7.0.0->cufflinks) (3.2.0)\n",
      "Requirement already satisfied: attrs>=17.4.0 in c:\\users\\davin\\anaconda3\\lib\\site-packages (from jsonschema!=2.5.0,>=2.4->nbformat>=4.2.0->ipywidgets>=7.0.0->cufflinks) (21.2.0)\n",
      "Requirement already satisfied: pyrsistent>=0.14.0 in c:\\users\\davin\\anaconda3\\lib\\site-packages (from jsonschema!=2.5.0,>=2.4->nbformat>=4.2.0->ipywidgets>=7.0.0->cufflinks) (0.18.0)\n",
      "Requirement already satisfied: pytz>=2017.3 in c:\\users\\davin\\anaconda3\\lib\\site-packages (from pandas>=0.19.2->cufflinks) (2021.3)\n",
      "Requirement already satisfied: tenacity>=6.2.0 in c:\\users\\davin\\anaconda3\\lib\\site-packages (from plotly>=4.1.1->cufflinks) (8.0.1)\n",
      "Requirement already satisfied: wcwidth in c:\\users\\davin\\anaconda3\\lib\\site-packages (from prompt-toolkit!=3.0.0,!=3.0.1,<3.1.0,>=2.0.0->ipython>=5.3.0->cufflinks) (0.2.5)\n",
      "Requirement already satisfied: notebook>=4.4.1 in c:\\users\\davin\\anaconda3\\lib\\site-packages (from widgetsnbextension~=3.5.0->ipywidgets>=7.0.0->cufflinks) (6.4.5)\n",
      "Requirement already satisfied: nbconvert in c:\\users\\davin\\anaconda3\\lib\\site-packages (from notebook>=4.4.1->widgetsnbextension~=3.5.0->ipywidgets>=7.0.0->cufflinks) (6.1.0)\n",
      "Requirement already satisfied: terminado>=0.8.3 in c:\\users\\davin\\anaconda3\\lib\\site-packages (from notebook>=4.4.1->widgetsnbextension~=3.5.0->ipywidgets>=7.0.0->cufflinks) (0.9.4)\n",
      "Requirement already satisfied: prometheus-client in c:\\users\\davin\\anaconda3\\lib\\site-packages (from notebook>=4.4.1->widgetsnbextension~=3.5.0->ipywidgets>=7.0.0->cufflinks) (0.11.0)\n",
      "Requirement already satisfied: jinja2 in c:\\users\\davin\\anaconda3\\lib\\site-packages (from notebook>=4.4.1->widgetsnbextension~=3.5.0->ipywidgets>=7.0.0->cufflinks) (2.11.3)\n",
      "Requirement already satisfied: argon2-cffi in c:\\users\\davin\\anaconda3\\lib\\site-packages (from notebook>=4.4.1->widgetsnbextension~=3.5.0->ipywidgets>=7.0.0->cufflinks) (20.1.0)\n",
      "Requirement already satisfied: Send2Trash>=1.5.0 in c:\\users\\davin\\anaconda3\\lib\\site-packages (from notebook>=4.4.1->widgetsnbextension~=3.5.0->ipywidgets>=7.0.0->cufflinks) (1.8.0)\n",
      "Requirement already satisfied: pywinpty>=0.5 in c:\\users\\davin\\anaconda3\\lib\\site-packages (from terminado>=0.8.3->notebook>=4.4.1->widgetsnbextension~=3.5.0->ipywidgets>=7.0.0->cufflinks) (0.5.7)\n",
      "Requirement already satisfied: cffi>=1.0.0 in c:\\users\\davin\\anaconda3\\lib\\site-packages (from argon2-cffi->notebook>=4.4.1->widgetsnbextension~=3.5.0->ipywidgets>=7.0.0->cufflinks) (1.14.6)\n",
      "Requirement already satisfied: pycparser in c:\\users\\davin\\anaconda3\\lib\\site-packages (from cffi>=1.0.0->argon2-cffi->notebook>=4.4.1->widgetsnbextension~=3.5.0->ipywidgets>=7.0.0->cufflinks) (2.20)\n",
      "Requirement already satisfied: MarkupSafe>=0.23 in c:\\users\\davin\\anaconda3\\lib\\site-packages (from jinja2->notebook>=4.4.1->widgetsnbextension~=3.5.0->ipywidgets>=7.0.0->cufflinks) (1.1.1)\n",
      "Requirement already satisfied: entrypoints>=0.2.2 in c:\\users\\davin\\anaconda3\\lib\\site-packages (from nbconvert->notebook>=4.4.1->widgetsnbextension~=3.5.0->ipywidgets>=7.0.0->cufflinks) (0.3)\n",
      "Requirement already satisfied: jupyterlab-pygments in c:\\users\\davin\\anaconda3\\lib\\site-packages (from nbconvert->notebook>=4.4.1->widgetsnbextension~=3.5.0->ipywidgets>=7.0.0->cufflinks) (0.1.2)\n",
      "Requirement already satisfied: pandocfilters>=1.4.1 in c:\\users\\davin\\anaconda3\\lib\\site-packages (from nbconvert->notebook>=4.4.1->widgetsnbextension~=3.5.0->ipywidgets>=7.0.0->cufflinks) (1.4.3)\n",
      "Requirement already satisfied: bleach in c:\\users\\davin\\anaconda3\\lib\\site-packages (from nbconvert->notebook>=4.4.1->widgetsnbextension~=3.5.0->ipywidgets>=7.0.0->cufflinks) (4.0.0)\n",
      "Requirement already satisfied: testpath in c:\\users\\davin\\anaconda3\\lib\\site-packages (from nbconvert->notebook>=4.4.1->widgetsnbextension~=3.5.0->ipywidgets>=7.0.0->cufflinks) (0.5.0)\n",
      "Requirement already satisfied: defusedxml in c:\\users\\davin\\anaconda3\\lib\\site-packages (from nbconvert->notebook>=4.4.1->widgetsnbextension~=3.5.0->ipywidgets>=7.0.0->cufflinks) (0.7.1)\n",
      "Requirement already satisfied: mistune<2,>=0.8.1 in c:\\users\\davin\\anaconda3\\lib\\site-packages (from nbconvert->notebook>=4.4.1->widgetsnbextension~=3.5.0->ipywidgets>=7.0.0->cufflinks) (0.8.4)\n",
      "Requirement already satisfied: nbclient<0.6.0,>=0.5.0 in c:\\users\\davin\\anaconda3\\lib\\site-packages (from nbconvert->notebook>=4.4.1->widgetsnbextension~=3.5.0->ipywidgets>=7.0.0->cufflinks) (0.5.3)\n",
      "Requirement already satisfied: nest-asyncio in c:\\users\\davin\\anaconda3\\lib\\site-packages (from nbclient<0.6.0,>=0.5.0->nbconvert->notebook>=4.4.1->widgetsnbextension~=3.5.0->ipywidgets>=7.0.0->cufflinks) (1.5.1)\n",
      "Requirement already satisfied: async-generator in c:\\users\\davin\\anaconda3\\lib\\site-packages (from nbclient<0.6.0,>=0.5.0->nbconvert->notebook>=4.4.1->widgetsnbextension~=3.5.0->ipywidgets>=7.0.0->cufflinks) (1.10)\n",
      "Requirement already satisfied: packaging in c:\\users\\davin\\anaconda3\\lib\\site-packages (from bleach->nbconvert->notebook>=4.4.1->widgetsnbextension~=3.5.0->ipywidgets>=7.0.0->cufflinks) (21.0)\n",
      "Requirement already satisfied: webencodings in c:\\users\\davin\\anaconda3\\lib\\site-packages (from bleach->nbconvert->notebook>=4.4.1->widgetsnbextension~=3.5.0->ipywidgets>=7.0.0->cufflinks) (0.5.1)\n",
      "Requirement already satisfied: pyparsing>=2.0.2 in c:\\users\\davin\\anaconda3\\lib\\site-packages (from packaging->bleach->nbconvert->notebook>=4.4.1->widgetsnbextension~=3.5.0->ipywidgets>=7.0.0->cufflinks) (3.0.4)\n",
      "Note: you may need to restart the kernel to use updated packages.\n"
     ]
    }
   ],
   "source": []
  },
  {
   "cell_type": "code",
   "execution_count": null,
   "id": "2f9216c3",
   "metadata": {},
   "outputs": [],
   "source": []
  }
 ],
 "metadata": {
  "kernelspec": {
   "display_name": "Python 3 (ipykernel)",
   "language": "python",
   "name": "python3"
  },
  "language_info": {
   "codemirror_mode": {
    "name": "ipython",
    "version": 3
   },
   "file_extension": ".py",
   "mimetype": "text/x-python",
   "name": "python",
   "nbconvert_exporter": "python",
   "pygments_lexer": "ipython3",
   "version": "3.9.7"
  }
 },
 "nbformat": 4,
 "nbformat_minor": 5
}
